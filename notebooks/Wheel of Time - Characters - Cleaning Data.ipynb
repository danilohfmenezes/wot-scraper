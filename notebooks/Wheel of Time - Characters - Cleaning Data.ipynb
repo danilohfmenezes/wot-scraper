{
 "cells": [
  {
   "cell_type": "code",
   "execution_count": 1,
   "metadata": {},
   "outputs": [],
   "source": [
    "import pandas as pd"
   ]
  },
  {
   "cell_type": "code",
   "execution_count": 30,
   "metadata": {},
   "outputs": [],
   "source": [
    "characters = pd.read_csv(\"../datasets/characters.csv\")"
   ]
  },
  {
   "cell_type": "markdown",
   "metadata": {},
   "source": [
    "We will start by taking an overview of the data:"
   ]
  },
  {
   "cell_type": "code",
   "execution_count": 31,
   "metadata": {},
   "outputs": [
    {
     "data": {
      "text/html": [
       "<div>\n",
       "<style scoped>\n",
       "    .dataframe tbody tr th:only-of-type {\n",
       "        vertical-align: middle;\n",
       "    }\n",
       "\n",
       "    .dataframe tbody tr th {\n",
       "        vertical-align: top;\n",
       "    }\n",
       "\n",
       "    .dataframe thead th {\n",
       "        text-align: right;\n",
       "    }\n",
       "</style>\n",
       "<table border=\"1\" class=\"dataframe\">\n",
       "  <thead>\n",
       "    <tr style=\"text-align: right;\">\n",
       "      <th></th>\n",
       "      <th>name</th>\n",
       "      <th>birth</th>\n",
       "      <th>nationality</th>\n",
       "      <th>gender</th>\n",
       "      <th>height</th>\n",
       "      <th>weight</th>\n",
       "      <th>hair_color</th>\n",
       "      <th>eye_color</th>\n",
       "      <th>build</th>\n",
       "      <th>race</th>\n",
       "      <th>...</th>\n",
       "      <th>rank</th>\n",
       "      <th>status</th>\n",
       "      <th>death</th>\n",
       "      <th>occupation</th>\n",
       "      <th>ajah</th>\n",
       "      <th>clan</th>\n",
       "      <th>sept</th>\n",
       "      <th>animal_type</th>\n",
       "      <th>color</th>\n",
       "      <th>owner</th>\n",
       "    </tr>\n",
       "  </thead>\n",
       "  <tbody>\n",
       "    <tr>\n",
       "      <th>count</th>\n",
       "      <td>2378</td>\n",
       "      <td>226</td>\n",
       "      <td>2147</td>\n",
       "      <td>2372</td>\n",
       "      <td>339</td>\n",
       "      <td>30</td>\n",
       "      <td>652</td>\n",
       "      <td>373</td>\n",
       "      <td>580</td>\n",
       "      <td>40</td>\n",
       "      <td>...</td>\n",
       "      <td>858</td>\n",
       "      <td>2360</td>\n",
       "      <td>387</td>\n",
       "      <td>985</td>\n",
       "      <td>360</td>\n",
       "      <td>244</td>\n",
       "      <td>200</td>\n",
       "      <td>92</td>\n",
       "      <td>50</td>\n",
       "      <td>60</td>\n",
       "    </tr>\n",
       "    <tr>\n",
       "      <th>unique</th>\n",
       "      <td>2378</td>\n",
       "      <td>142</td>\n",
       "      <td>58</td>\n",
       "      <td>7</td>\n",
       "      <td>49</td>\n",
       "      <td>15</td>\n",
       "      <td>277</td>\n",
       "      <td>120</td>\n",
       "      <td>106</td>\n",
       "      <td>1</td>\n",
       "      <td>...</td>\n",
       "      <td>95</td>\n",
       "      <td>17</td>\n",
       "      <td>70</td>\n",
       "      <td>123</td>\n",
       "      <td>8</td>\n",
       "      <td>17</td>\n",
       "      <td>36</td>\n",
       "      <td>3</td>\n",
       "      <td>20</td>\n",
       "      <td>42</td>\n",
       "    </tr>\n",
       "    <tr>\n",
       "      <th>top</th>\n",
       "      <td>Seaine Herimon</td>\n",
       "      <td>Age of Legends</td>\n",
       "      <td>Unknown nationality</td>\n",
       "      <td>Female</td>\n",
       "      <td>Tall</td>\n",
       "      <td>Slender</td>\n",
       "      <td>Dark</td>\n",
       "      <td>Dark</td>\n",
       "      <td>Plump</td>\n",
       "      <td>Ogier</td>\n",
       "      <td>...</td>\n",
       "      <td>Aes Sedai</td>\n",
       "      <td>Alive</td>\n",
       "      <td>1000 NE</td>\n",
       "      <td>Soldier</td>\n",
       "      <td>Green Ajah</td>\n",
       "      <td>Unknown clan</td>\n",
       "      <td>Unknown sept</td>\n",
       "      <td>Horse</td>\n",
       "      <td>Bay</td>\n",
       "      <td>Rand al'Thor</td>\n",
       "    </tr>\n",
       "    <tr>\n",
       "      <th>freq</th>\n",
       "      <td>1</td>\n",
       "      <td>13</td>\n",
       "      <td>479</td>\n",
       "      <td>1193</td>\n",
       "      <td>176</td>\n",
       "      <td>7</td>\n",
       "      <td>70</td>\n",
       "      <td>70</td>\n",
       "      <td>66</td>\n",
       "      <td>40</td>\n",
       "      <td>...</td>\n",
       "      <td>362</td>\n",
       "      <td>1578</td>\n",
       "      <td>210</td>\n",
       "      <td>241</td>\n",
       "      <td>62</td>\n",
       "      <td>83</td>\n",
       "      <td>140</td>\n",
       "      <td>60</td>\n",
       "      <td>11</td>\n",
       "      <td>4</td>\n",
       "    </tr>\n",
       "  </tbody>\n",
       "</table>\n",
       "<p>4 rows × 30 columns</p>\n",
       "</div>"
      ],
      "text/plain": [
       "                  name           birth          nationality  gender height  \\\n",
       "count             2378             226                 2147    2372    339   \n",
       "unique            2378             142                   58       7     49   \n",
       "top     Seaine Herimon  Age of Legends  Unknown nationality  Female   Tall   \n",
       "freq                 1              13                  479    1193    176   \n",
       "\n",
       "         weight hair_color eye_color  build   race  ...       rank status  \\\n",
       "count        30        652       373    580     40  ...        858   2360   \n",
       "unique       15        277       120    106      1  ...         95     17   \n",
       "top     Slender       Dark      Dark  Plump  Ogier  ...  Aes Sedai  Alive   \n",
       "freq          7         70        70     66     40  ...        362   1578   \n",
       "\n",
       "          death occupation        ajah          clan          sept  \\\n",
       "count       387        985         360           244           200   \n",
       "unique       70        123           8            17            36   \n",
       "top     1000 NE    Soldier  Green Ajah  Unknown clan  Unknown sept   \n",
       "freq        210        241          62            83           140   \n",
       "\n",
       "       animal_type color         owner  \n",
       "count           92    50            60  \n",
       "unique           3    20            42  \n",
       "top          Horse   Bay  Rand al'Thor  \n",
       "freq            60    11             4  \n",
       "\n",
       "[4 rows x 30 columns]"
      ]
     },
     "execution_count": 31,
     "metadata": {},
     "output_type": "execute_result"
    }
   ],
   "source": [
    "characters.describe()"
   ]
  },
  {
   "cell_type": "code",
   "execution_count": 32,
   "metadata": {},
   "outputs": [
    {
     "name": "stdout",
     "output_type": "stream",
     "text": [
      "<class 'pandas.core.frame.DataFrame'>\n",
      "RangeIndex: 2382 entries, 0 to 2381\n",
      "Data columns (total 30 columns):\n",
      " #   Column                   Non-Null Count  Dtype \n",
      "---  ------                   --------------  ----- \n",
      " 0   name                     2378 non-null   object\n",
      " 1   birth                    226 non-null    object\n",
      " 2   nationality              2147 non-null   object\n",
      " 3   gender                   2372 non-null   object\n",
      " 4   height                   339 non-null    object\n",
      " 5   weight                   30 non-null     object\n",
      " 6   hair_color               652 non-null    object\n",
      " 7   eye_color                373 non-null    object\n",
      " 8   build                    580 non-null    object\n",
      " 9   race                     40 non-null     object\n",
      " 10  first_mentioned_book     886 non-null    object\n",
      " 11  first_mentioned_chapter  793 non-null    object\n",
      " 12  last_mentioned_book      913 non-null    object\n",
      " 13  last_mentioned_chapter   863 non-null    object\n",
      " 14  first_appeared_book      1718 non-null   object\n",
      " 15  first_appeared_chapter   1711 non-null   object\n",
      " 16  last_appeared_book       1600 non-null   object\n",
      " 17  last_appeared_chapter    1594 non-null   object\n",
      " 18  affiliation              1236 non-null   object\n",
      " 19  title                    408 non-null    object\n",
      " 20  rank                     858 non-null    object\n",
      " 21  status                   2360 non-null   object\n",
      " 22  death                    387 non-null    object\n",
      " 23  occupation               985 non-null    object\n",
      " 24  ajah                     360 non-null    object\n",
      " 25  clan                     244 non-null    object\n",
      " 26  sept                     200 non-null    object\n",
      " 27  animal_type              92 non-null     object\n",
      " 28  color                    50 non-null     object\n",
      " 29  owner                    60 non-null     object\n",
      "dtypes: object(30)\n",
      "memory usage: 558.4+ KB\n"
     ]
    }
   ],
   "source": [
    "characters.info()"
   ]
  },
  {
   "cell_type": "code",
   "execution_count": 33,
   "metadata": {},
   "outputs": [
    {
     "name": "stdout",
     "output_type": "stream",
     "text": [
      "There are 2382 characters.\n"
     ]
    }
   ],
   "source": [
    "print(f'There are {len(characters.index)} characters.')"
   ]
  },
  {
   "cell_type": "markdown",
   "metadata": {},
   "source": [
    "As of today (03/05/2020) The **Wheel of Time wiki** has the following character counts **1189** [Female](https://wot.fandom.com/wiki/Category:Women), **1101** [Male](https://wot.fandom.com/wiki/Category:Men) and no [Unknown Gender](https://wot.fandom.com/wiki/Category:Unknown_gender) characters. This would sum to a total of **2290** characters, but the the wiki actually is counting [Wolfbrothers](https://wot.fandom.com/wiki/Category:Wolfbrothers)' Category as a Male character so the total number of **2289** is the correct one.\n",
    "\n",
    "**UPDATE**: Two characters don't appear in the list of Men they are:\n",
    "\n",
    "* [Narg](https://wot.fandom.com/wiki/Narg)\n",
    "* [Jain](https://wot.fandom.com/wiki/Jain_Farstriders)\n",
    "\n",
    "So I crawled them separately.\n",
    "I also crawled [Horses](https://wot.fandom.com/wiki/Category:Horses) (which contains **62** characters but counts [Dhurrans](https://wot.fandom.com/wiki/Wolf) and [Razor](https://wot.fandom.com/wiki/Razor) pages which are breeds of horses in WoT and not characters)  and [Wolves](https://wot.fandom.com/wiki/Category:Wolves) (which contain **32** characters but it counts the [Wofl](https://wot.fandom.com/wiki/Wolf) Page which isn't a character).\n",
    "\n",
    "So the total of **2289 + 2 + 31 + 60 = 2382** is correct as of today."
   ]
  },
  {
   "cell_type": "markdown",
   "metadata": {},
   "source": [
    "## Dropping Characters that Don't Have Bio Details on the Wiki\n",
    "\n",
    "First we are going to look for characters that don't have Bio details in the wiki. Looking at the order of scraped characters I could find two of those characters in the wiki. \n",
    "\n",
    "* [Culan Cuhan](https://wot.fandom.com/wiki/Culan_Cuhan)\n",
    "* [Anla the Wise Counselor](https://wot.fandom.com/wiki/Anla_the_Wise_Counselor)\n",
    "\n",
    "However, as Scrapy does a lot of paralell requests, I couldn't spot the others."
   ]
  },
  {
   "cell_type": "code",
   "execution_count": 34,
   "metadata": {},
   "outputs": [
    {
     "data": {
      "text/html": [
       "<div>\n",
       "<style scoped>\n",
       "    .dataframe tbody tr th:only-of-type {\n",
       "        vertical-align: middle;\n",
       "    }\n",
       "\n",
       "    .dataframe tbody tr th {\n",
       "        vertical-align: top;\n",
       "    }\n",
       "\n",
       "    .dataframe thead th {\n",
       "        text-align: right;\n",
       "    }\n",
       "</style>\n",
       "<table border=\"1\" class=\"dataframe\">\n",
       "  <thead>\n",
       "    <tr style=\"text-align: right;\">\n",
       "      <th></th>\n",
       "      <th>name</th>\n",
       "      <th>birth</th>\n",
       "      <th>nationality</th>\n",
       "      <th>gender</th>\n",
       "      <th>height</th>\n",
       "      <th>weight</th>\n",
       "      <th>hair_color</th>\n",
       "      <th>eye_color</th>\n",
       "      <th>build</th>\n",
       "      <th>race</th>\n",
       "      <th>...</th>\n",
       "      <th>rank</th>\n",
       "      <th>status</th>\n",
       "      <th>death</th>\n",
       "      <th>occupation</th>\n",
       "      <th>ajah</th>\n",
       "      <th>clan</th>\n",
       "      <th>sept</th>\n",
       "      <th>animal_type</th>\n",
       "      <th>color</th>\n",
       "      <th>owner</th>\n",
       "    </tr>\n",
       "  </thead>\n",
       "  <tbody>\n",
       "    <tr>\n",
       "      <th>279</th>\n",
       "      <td>NaN</td>\n",
       "      <td>NaN</td>\n",
       "      <td>NaN</td>\n",
       "      <td>NaN</td>\n",
       "      <td>NaN</td>\n",
       "      <td>NaN</td>\n",
       "      <td>NaN</td>\n",
       "      <td>NaN</td>\n",
       "      <td>NaN</td>\n",
       "      <td>NaN</td>\n",
       "      <td>...</td>\n",
       "      <td>NaN</td>\n",
       "      <td>NaN</td>\n",
       "      <td>NaN</td>\n",
       "      <td>NaN</td>\n",
       "      <td>NaN</td>\n",
       "      <td>NaN</td>\n",
       "      <td>NaN</td>\n",
       "      <td>NaN</td>\n",
       "      <td>NaN</td>\n",
       "      <td>NaN</td>\n",
       "    </tr>\n",
       "    <tr>\n",
       "      <th>314</th>\n",
       "      <td>NaN</td>\n",
       "      <td>NaN</td>\n",
       "      <td>NaN</td>\n",
       "      <td>NaN</td>\n",
       "      <td>NaN</td>\n",
       "      <td>NaN</td>\n",
       "      <td>NaN</td>\n",
       "      <td>NaN</td>\n",
       "      <td>NaN</td>\n",
       "      <td>NaN</td>\n",
       "      <td>...</td>\n",
       "      <td>NaN</td>\n",
       "      <td>NaN</td>\n",
       "      <td>NaN</td>\n",
       "      <td>NaN</td>\n",
       "      <td>NaN</td>\n",
       "      <td>NaN</td>\n",
       "      <td>NaN</td>\n",
       "      <td>NaN</td>\n",
       "      <td>NaN</td>\n",
       "      <td>NaN</td>\n",
       "    </tr>\n",
       "    <tr>\n",
       "      <th>1252</th>\n",
       "      <td>NaN</td>\n",
       "      <td>NaN</td>\n",
       "      <td>NaN</td>\n",
       "      <td>NaN</td>\n",
       "      <td>NaN</td>\n",
       "      <td>NaN</td>\n",
       "      <td>NaN</td>\n",
       "      <td>NaN</td>\n",
       "      <td>NaN</td>\n",
       "      <td>NaN</td>\n",
       "      <td>...</td>\n",
       "      <td>NaN</td>\n",
       "      <td>NaN</td>\n",
       "      <td>NaN</td>\n",
       "      <td>NaN</td>\n",
       "      <td>NaN</td>\n",
       "      <td>NaN</td>\n",
       "      <td>NaN</td>\n",
       "      <td>NaN</td>\n",
       "      <td>NaN</td>\n",
       "      <td>NaN</td>\n",
       "    </tr>\n",
       "    <tr>\n",
       "      <th>2204</th>\n",
       "      <td>NaN</td>\n",
       "      <td>NaN</td>\n",
       "      <td>NaN</td>\n",
       "      <td>NaN</td>\n",
       "      <td>NaN</td>\n",
       "      <td>NaN</td>\n",
       "      <td>NaN</td>\n",
       "      <td>NaN</td>\n",
       "      <td>NaN</td>\n",
       "      <td>NaN</td>\n",
       "      <td>...</td>\n",
       "      <td>NaN</td>\n",
       "      <td>NaN</td>\n",
       "      <td>NaN</td>\n",
       "      <td>NaN</td>\n",
       "      <td>NaN</td>\n",
       "      <td>NaN</td>\n",
       "      <td>NaN</td>\n",
       "      <td>NaN</td>\n",
       "      <td>NaN</td>\n",
       "      <td>NaN</td>\n",
       "    </tr>\n",
       "  </tbody>\n",
       "</table>\n",
       "<p>4 rows × 30 columns</p>\n",
       "</div>"
      ],
      "text/plain": [
       "     name birth nationality gender height weight hair_color eye_color build  \\\n",
       "279   NaN   NaN         NaN    NaN    NaN    NaN        NaN       NaN   NaN   \n",
       "314   NaN   NaN         NaN    NaN    NaN    NaN        NaN       NaN   NaN   \n",
       "1252  NaN   NaN         NaN    NaN    NaN    NaN        NaN       NaN   NaN   \n",
       "2204  NaN   NaN         NaN    NaN    NaN    NaN        NaN       NaN   NaN   \n",
       "\n",
       "     race  ... rank status death occupation ajah clan sept animal_type color  \\\n",
       "279   NaN  ...  NaN    NaN   NaN        NaN  NaN  NaN  NaN         NaN   NaN   \n",
       "314   NaN  ...  NaN    NaN   NaN        NaN  NaN  NaN  NaN         NaN   NaN   \n",
       "1252  NaN  ...  NaN    NaN   NaN        NaN  NaN  NaN  NaN         NaN   NaN   \n",
       "2204  NaN  ...  NaN    NaN   NaN        NaN  NaN  NaN  NaN         NaN   NaN   \n",
       "\n",
       "     owner  \n",
       "279    NaN  \n",
       "314    NaN  \n",
       "1252   NaN  \n",
       "2204   NaN  \n",
       "\n",
       "[4 rows x 30 columns]"
      ]
     },
     "execution_count": 34,
     "metadata": {},
     "output_type": "execute_result"
    }
   ],
   "source": [
    "characters[characters[\"name\"].isna()]"
   ]
  },
  {
   "cell_type": "markdown",
   "metadata": {},
   "source": [
    "As can be seen, there are four characters that don't have Bio in the wiki. Let's clean these rows."
   ]
  },
  {
   "cell_type": "code",
   "execution_count": 35,
   "metadata": {},
   "outputs": [],
   "source": [
    "indexes_drop = characters[characters[\"name\"].isna()].index\n",
    "characters.drop(indexes_drop, inplace=True)"
   ]
  },
  {
   "cell_type": "code",
   "execution_count": 36,
   "metadata": {},
   "outputs": [
    {
     "name": "stdout",
     "output_type": "stream",
     "text": [
      "We are left with 2378 characters.\n"
     ]
    }
   ],
   "source": [
    "print(f'We are left with {len(characters.index)} characters.')"
   ]
  },
  {
   "cell_type": "markdown",
   "metadata": {},
   "source": [
    "## Dealing with Gender Data\n",
    "\n",
    "Some characters don't have the **gender** filled in their Bios (only animals). I am going to fill them with the value **Unkown** as this is already used  in the wiki when it is explicitly stated that the gender is unknown for a character."
   ]
  },
  {
   "cell_type": "code",
   "execution_count": 37,
   "metadata": {},
   "outputs": [],
   "source": [
    "characters[\"gender\"].fillna(\"Unknown\", inplace=True)"
   ]
  },
  {
   "cell_type": "code",
   "execution_count": 38,
   "metadata": {},
   "outputs": [
    {
     "data": {
      "text/plain": [
       "Female      1193\n",
       "Male        1119\n",
       "Unknown       22\n",
       "Mare          20\n",
       "Gelding       16\n",
       "Stallion       7\n",
       "Stalion        1\n",
       "Name: gender, dtype: int64"
      ]
     },
     "execution_count": 38,
     "metadata": {},
     "output_type": "execute_result"
    }
   ],
   "source": [
    "characters[\"gender\"].value_counts()"
   ]
  },
  {
   "cell_type": "markdown",
   "metadata": {},
   "source": [
    "We can see that different terms for Male (Stalion, Stallion and Gelding) and Female (Mare) horses are creating some noise. Let's uniform it:"
   ]
  },
  {
   "cell_type": "code",
   "execution_count": 39,
   "metadata": {},
   "outputs": [],
   "source": [
    "gender_mapping = {\n",
    "    'Male':'Male',\n",
    "    'Stalion':'Male',\n",
    "    'Stallion':'Male',\n",
    "    'Gelding':'Male',\n",
    "    'Female':'Female',\n",
    "    'Mare':'Female',\n",
    "}\n",
    "\n",
    "characters['gender'] = characters['gender'].map(gender_mapping)"
   ]
  },
  {
   "cell_type": "code",
   "execution_count": 40,
   "metadata": {},
   "outputs": [
    {
     "data": {
      "text/plain": [
       "Female    1213\n",
       "Male      1143\n",
       "Name: gender, dtype: int64"
      ]
     },
     "execution_count": 40,
     "metadata": {},
     "output_type": "execute_result"
    }
   ],
   "source": [
    "characters[\"gender\"].value_counts()"
   ]
  },
  {
   "cell_type": "markdown",
   "metadata": {},
   "source": [
    "## Dealing with Nationality Data\n",
    "\n",
    "Some characters don't have the **nationality** filled in their Bios. I am going to fill them with the value **Unkown nationality** as this is already used  in the wiki when it is explicitly stated that the nationality is unkown for a character."
   ]
  },
  {
   "cell_type": "code",
   "execution_count": 41,
   "metadata": {},
   "outputs": [],
   "source": [
    "characters[\"nationality\"].fillna(\"Unknown nationality\", inplace=True)"
   ]
  },
  {
   "cell_type": "markdown",
   "metadata": {},
   "source": [
    "Let's look at the count for each nationality:"
   ]
  },
  {
   "cell_type": "code",
   "execution_count": 42,
   "metadata": {},
   "outputs": [
    {
     "data": {
      "text/plain": [
       "Unknown nationality    710\n",
       "Andoran                385\n",
       "Aiel                   256\n",
       "Seanchan               119\n",
       "Cairhienin             116\n",
       "Tairen                  88\n",
       "Domani                  86\n",
       "Altaran                 71\n",
       "Saldaean                60\n",
       "Kandori                 55\n",
       "Murandian               50\n",
       "Taraboner               45\n",
       "Shienaran               37\n",
       "Amadician               36\n",
       "Illianer                36\n",
       "Ghealdanin              34\n",
       "Arafellin               33\n",
       "Far Madding             21\n",
       "Borderlander            15\n",
       "Mayener                 14\n",
       "Malkieri                11\n",
       "Malkier                  9\n",
       "Saldaea                  7\n",
       "Andor                    6\n",
       "Manetherenite            6\n",
       "Tar Valon                5\n",
       "Sharan                   5\n",
       "Shandalle                5\n",
       "Kandor                   5\n",
       "Cairhien                 4\n",
       "Murandy                  3\n",
       "Aldesharin               3\n",
       "Illian                   3\n",
       "Black Hills              3\n",
       "Arad Doman               3\n",
       "Arafel                   2\n",
       "Aramaellen               2\n",
       "Ghealdan                 2\n",
       "Shienar                  2\n",
       "Shiotan                  2\n",
       "Tarabon                  2\n",
       "Sea Folk                 2\n",
       "Altara                   2\n",
       "Aridholin                2\n",
       "Mayene                   2\n",
       "Talmouri                 1\n",
       "Saferin                  1\n",
       "Essenian                 1\n",
       "Darmovanin               1\n",
       "Amayarin                 1\n",
       "Masenasharin             1\n",
       "Dorlan                   1\n",
       "Amadicia                 1\n",
       "Dal Calainin             1\n",
       "Aramaelle                1\n",
       "Jaramide                 1\n",
       "Hol Cuchone              1\n",
       "Essam                    1\n",
       "Name: nationality, dtype: int64"
      ]
     },
     "execution_count": 42,
     "metadata": {},
     "output_type": "execute_result"
    }
   ],
   "source": [
    "characters[\"nationality\"].value_counts()"
   ]
  },
  {
   "cell_type": "markdown",
   "metadata": {},
   "source": [
    "Looking at the data we can see that there are some values that have different names but that actually correspond to the same nationality, such as **Andor** and **Andoran**. To avoid this duplication we will map them to get a uniform name for each nationality."
   ]
  },
  {
   "cell_type": "code",
   "execution_count": 43,
   "metadata": {},
   "outputs": [],
   "source": [
    "nationality_mapping = {\n",
    "    'Unknown nationality':'Unknown',\n",
    "    'Andoran':'Andoran',\n",
    "    'Aiel':'Aiel',\n",
    "    'Seanchan':'Seanchan',\n",
    "    'Cairhienin':'Cairhienin',\n",
    "    'Tairen':'Tairen',\n",
    "    'Domani':'Domani',\n",
    "    'Altaran':'Altaran',\n",
    "    'Saldaean':'Saldaean',\n",
    "    'Kandori':'Kandori', \n",
    "    'Murandian':'Murandian',\n",
    "    'Taraboner':'Taraboner',\n",
    "    'Shienaran':'Shienaran',\n",
    "    'Amadician':'Amadician',\n",
    "    'Illianer':'Illianer',\n",
    "    'Ghealdanin':'Ghealdanin',\n",
    "    'Arafellin':'Arafellin',\n",
    "    'Far Madding':'Far Madding',\n",
    "    'Borderlander':'Borderlander',\n",
    "    'Mayener':'Mayener',\n",
    "    'Malkieri':'Malkieri',\n",
    "    'Malkier':'Malkieri',\n",
    "    'Saldaea':'Saldaean',\n",
    "    'Andor': 'Andoran',\n",
    "    'Manetherenite':'Manetherenite',\n",
    "    'Tar Valon':'Tar Valon',\n",
    "    'Shandalle':'Shandalle',\n",
    "    'Kandor':'Kandori',\n",
    "    'Sharan':'Sharan',\n",
    "    'Cairhien':'Cairhienin',\n",
    "    'Illian':'Illianer',\n",
    "    'Murandy':'Murandian',\n",
    "    'Aldesharin':'Aldesharin',\n",
    "    'Arad Doman':'Domani',\n",
    "    'Black Hills':'Black Hills',\n",
    "    'Tarabon':'Taraboner',\n",
    "    'Sea Folk':'Sea Folk',\n",
    "    'Shienar':'Shienaran',\n",
    "    'Arafel':'Arafellin',\n",
    "    'Aramaellen':'Aramaellen',\n",
    "    'Aridholin':'Aridholin',\n",
    "    'Shiotan':'Shiotan',\n",
    "    'Altara':'Altaran',\n",
    "    'Mayene':'Mayener',\n",
    "    'Ghealdan':'Ghealdanin',\n",
    "    'Darmovanin':'Darmovanin',\n",
    "    'Dal Calainin':'Dal Calainin',\n",
    "    'Dorlan':'Dorlan',                  \n",
    "    'Amadicia':'Amadician',\n",
    "    'Essam':'Essam',\n",
    "    'Jaramide':'Jaramide',\n",
    "    'Aramaelle':'Aramaelle',\n",
    "    'Amayarin':'Amayarin',\n",
    "    'Talmouri':'Talmouri', \n",
    "    'Masenasharin':'Masenasharin',\n",
    "    'Essenian':'Essenian',\n",
    "    'Hol Cuchone':'Hol Cuchone',\n",
    "    'Saferin':'Saferin'\n",
    "}\n",
    "\n",
    "characters['nationality'] = characters['nationality'].map(nationality_mapping)"
   ]
  },
  {
   "cell_type": "code",
   "execution_count": 44,
   "metadata": {},
   "outputs": [
    {
     "data": {
      "text/plain": [
       "Unknown          710\n",
       "Andoran          391\n",
       "Aiel             256\n",
       "Cairhienin       120\n",
       "Seanchan         119\n",
       "Domani            89\n",
       "Tairen            88\n",
       "Altaran           73\n",
       "Saldaean          67\n",
       "Kandori           60\n",
       "Murandian         53\n",
       "Taraboner         47\n",
       "Shienaran         39\n",
       "Illianer          39\n",
       "Amadician         37\n",
       "Ghealdanin        36\n",
       "Arafellin         35\n",
       "Far Madding       21\n",
       "Malkieri          20\n",
       "Mayener           16\n",
       "Borderlander      15\n",
       "Manetherenite      6\n",
       "Tar Valon          5\n",
       "Sharan             5\n",
       "Shandalle          5\n",
       "Black Hills        3\n",
       "Aldesharin         3\n",
       "Shiotan            2\n",
       "Aridholin          2\n",
       "Sea Folk           2\n",
       "Aramaellen         2\n",
       "Essenian           1\n",
       "Talmouri           1\n",
       "Saferin            1\n",
       "Darmovanin         1\n",
       "Amayarin           1\n",
       "Jaramide           1\n",
       "Dorlan             1\n",
       "Essam              1\n",
       "Hol Cuchone        1\n",
       "Masenasharin       1\n",
       "Aramaelle          1\n",
       "Dal Calainin       1\n",
       "Name: nationality, dtype: int64"
      ]
     },
     "execution_count": 44,
     "metadata": {},
     "output_type": "execute_result"
    }
   ],
   "source": [
    "characters[\"nationality\"].value_counts()"
   ]
  },
  {
   "cell_type": "code",
   "execution_count": 45,
   "metadata": {},
   "outputs": [
    {
     "name": "stdout",
     "output_type": "stream",
     "text": [
      "Now we end up with 43 unique nationalities\n"
     ]
    }
   ],
   "source": [
    "print(f'Now we end up with {characters[\"nationality\"].nunique()} unique nationalities')"
   ]
  },
  {
   "cell_type": "markdown",
   "metadata": {},
   "source": [
    "Something needs to be done about these characters. But we are going to take a deeper look at the books data in the next section and fix this problem, bear with me.\n"
   ]
  },
  {
   "cell_type": "markdown",
   "metadata": {},
   "source": [
    "## Analyzing Book Mention and Appearences\n",
    "\n",
    "Firstly we are going to see the book occurences and number of unique books for each of the three book attributes:\n",
    "\n",
    "### First Mentioned"
   ]
  },
  {
   "cell_type": "code",
   "execution_count": 46,
   "metadata": {},
   "outputs": [
    {
     "data": {
      "text/plain": [
       "LOC                            118\n",
       "TSR                             97\n",
       "TEOTW                           78\n",
       "TOM                             69\n",
       "TFOH                            60\n",
       "NS                              53\n",
       "ACOS                            51\n",
       "TWORJTWOT                       48\n",
       "KOD                             41\n",
       "TGS                             38\n",
       "COT                             38\n",
       "TGH                             38\n",
       "TDR                             37\n",
       "WH                              36\n",
       "TPOD                            24\n",
       "RPG                             21\n",
       "AMOL                            17\n",
       "The Wheel of Time Companion     14\n",
       "Wheel of Time Companion          6\n",
       "TSASG                            2\n",
       "Name: first_mentioned_book, dtype: int64"
      ]
     },
     "execution_count": 46,
     "metadata": {},
     "output_type": "execute_result"
    }
   ],
   "source": [
    "characters['first_mentioned_book'].value_counts()"
   ]
  },
  {
   "cell_type": "code",
   "execution_count": 47,
   "metadata": {},
   "outputs": [
    {
     "data": {
      "text/plain": [
       "20"
      ]
     },
     "execution_count": 47,
     "metadata": {},
     "output_type": "execute_result"
    }
   ],
   "source": [
    "characters['first_mentioned_book'].nunique()"
   ]
  },
  {
   "cell_type": "markdown",
   "metadata": {},
   "source": [
    "Things are looking good. There are 20 entries. The 14 books in the series, New Spring and 5 extras that actually correspond to the following 4 books \n",
    "\n",
    "* **TWORJTWOT** (The World of Robert Jordan's The Wheel of Time)\n",
    "* **The Wheel of Time Companion** & **Wheel of Time Companion** (Both corresponde to the same book)\n",
    "* **RPG** (The Wheel of Time Roleplaying Game)\n",
    "* **TSASG** (The Strike at Shayol Ghul)\n"
   ]
  },
  {
   "cell_type": "markdown",
   "metadata": {},
   "source": [
    "### Last Mentioned"
   ]
  },
  {
   "cell_type": "code",
   "execution_count": 48,
   "metadata": {},
   "outputs": [
    {
     "data": {
      "text/plain": [
       "AMOL         117\n",
       "TOM          112\n",
       "KOD           84\n",
       "LOC           80\n",
       "TGS           79\n",
       "TSR           71\n",
       "COT           59\n",
       "ACOS          49\n",
       "TFOH          41\n",
       "WH            41\n",
       "TWORJTWOT     40\n",
       "NS            37\n",
       "TPOD          37\n",
       "TGH           22\n",
       "TDR           18\n",
       "TEOTW         17\n",
       "RPG            7\n",
       "TSASG          2\n",
       "Name: last_mentioned_book, dtype: int64"
      ]
     },
     "execution_count": 48,
     "metadata": {},
     "output_type": "execute_result"
    }
   ],
   "source": [
    "characters['last_mentioned_book'].value_counts()"
   ]
  },
  {
   "cell_type": "code",
   "execution_count": 49,
   "metadata": {},
   "outputs": [
    {
     "data": {
      "text/plain": [
       "18"
      ]
     },
     "execution_count": 49,
     "metadata": {},
     "output_type": "execute_result"
    }
   ],
   "source": [
    "characters['last_mentioned_book'].nunique()"
   ]
  },
  {
   "cell_type": "markdown",
   "metadata": {},
   "source": [
    "For last mentioned there are 18 different books. The 14 books in the series, New Spring and the following 3 books \n",
    "\n",
    "* **TWORJTWOT** (The World of Robert Jordan's The Wheel of Time)\n",
    "* **RPG** (The Wheel of Time Roleplaying Game)\n",
    "* **TSASG** (The Strike at Shayol Ghul)\n"
   ]
  },
  {
   "cell_type": "markdown",
   "metadata": {},
   "source": [
    "### First Appeared"
   ]
  },
  {
   "cell_type": "code",
   "execution_count": 50,
   "metadata": {},
   "outputs": [
    {
     "data": {
      "text/plain": [
       "LOC          210\n",
       "KOD          156\n",
       "TSR          136\n",
       "ACOS         134\n",
       "TPOD         133\n",
       "TOM          133\n",
       "TFOH         121\n",
       "TEOTW        112\n",
       "NS           107\n",
       "WH            91\n",
       "TGS           90\n",
       "COT           85\n",
       "TGH           82\n",
       "AMOL          65\n",
       "TDR           58\n",
       "CCG            3\n",
       "TWORJTWOT      2\n",
       "Name: first_appeared_book, dtype: int64"
      ]
     },
     "execution_count": 50,
     "metadata": {},
     "output_type": "execute_result"
    }
   ],
   "source": [
    "characters['first_appeared_book'].value_counts()"
   ]
  },
  {
   "cell_type": "code",
   "execution_count": 51,
   "metadata": {},
   "outputs": [
    {
     "data": {
      "text/plain": [
       "17"
      ]
     },
     "execution_count": 51,
     "metadata": {},
     "output_type": "execute_result"
    }
   ],
   "source": [
    "characters['first_appeared_book'].nunique()"
   ]
  },
  {
   "cell_type": "markdown",
   "metadata": {},
   "source": [
    "Again, no problem. 17 entries. Again, 14 books in the series, New Spring and 2 extras that actually corresponde to 2 books: \n",
    "\n",
    "* **TWORJTWOT** (The World of Robert Jordan's The Wheel of Time)\n",
    "* **CCG** (The Wheel of Time Collectible Card Game)\n"
   ]
  },
  {
   "cell_type": "markdown",
   "metadata": {},
   "source": [
    "### Last Appeared"
   ]
  },
  {
   "cell_type": "code",
   "execution_count": 52,
   "metadata": {},
   "outputs": [
    {
     "data": {
      "text/plain": [
       "AMOL         261\n",
       "KOD          223\n",
       "TOM          215\n",
       "TGS          139\n",
       "LOC          132\n",
       "TSR           99\n",
       "TPOD          92\n",
       "COT           77\n",
       "WH            67\n",
       "NS            66\n",
       "TFOH          54\n",
       "ACOS          51\n",
       "TDR           43\n",
       "TGH           38\n",
       "TEOTW         38\n",
       "CCG            3\n",
       "TWORJTWOT      2\n",
       "Name: last_appeared_book, dtype: int64"
      ]
     },
     "execution_count": 52,
     "metadata": {},
     "output_type": "execute_result"
    }
   ],
   "source": [
    "characters['last_appeared_book'].value_counts()"
   ]
  },
  {
   "cell_type": "code",
   "execution_count": 53,
   "metadata": {},
   "outputs": [
    {
     "data": {
      "text/plain": [
       "17"
      ]
     },
     "execution_count": 53,
     "metadata": {},
     "output_type": "execute_result"
    }
   ],
   "source": [
    "characters['last_appeared_book'].nunique()"
   ]
  },
  {
   "cell_type": "markdown",
   "metadata": {},
   "source": [
    "Yet again 17 entries. The same 14 books in the series, New Spring and 2 extras that actually corresponde to 2 books: \n",
    "\n",
    "* **TWORJTWOT** (The World of Robert Jordan's The Wheel of Time)\n",
    "* **CCG** (The Wheel of Time Collectible Card Game)"
   ]
  },
  {
   "cell_type": "markdown",
   "metadata": {},
   "source": [
    "### Cleaning Characters Only Mentioned in Peripherical Material\n",
    "\n",
    "I am going to clean the characters that don't have at least one of the three attributes related to one of the 15 books in the series (including New Spring). So that we remmain only with characters whose data indicates that appear or are mentioned in the the series."
   ]
  },
  {
   "cell_type": "code",
   "execution_count": 54,
   "metadata": {},
   "outputs": [],
   "source": [
    "series_books = ['NS', 'TEOTW', 'TGH', 'TDR', 'TSR','TFOH', 'LOC', 'ACOS','TPOD','WH', 'COT', 'KOD', 'TGS','TOM', 'AMOL']"
   ]
  },
  {
   "cell_type": "code",
   "execution_count": 55,
   "metadata": {},
   "outputs": [],
   "source": [
    "condition = characters['first_mentioned_book'].isin(series_books) | characters['last_mentioned_book'].isin(series_books) | characters['first_appeared_book'].isin(series_books) | characters['last_appeared_book'].isin(series_books)  \n",
    "characters = characters[condition]"
   ]
  },
  {
   "cell_type": "code",
   "execution_count": 56,
   "metadata": {},
   "outputs": [
    {
     "name": "stdout",
     "output_type": "stream",
     "text": [
      "We remain with 2272 characters\n"
     ]
    }
   ],
   "source": [
    "print(f'We remain with {len(characters.index)} characters')"
   ]
  },
  {
   "cell_type": "code",
   "execution_count": 57,
   "metadata": {},
   "outputs": [],
   "source": [
    "characters.to_csv('../datasets/characters_cleaned.csv', index=False)"
   ]
  },
  {
   "cell_type": "markdown",
   "metadata": {},
   "source": [
    "After the cleaning we remain with **2179** characters. For analysis I intend to do in the future this cleaning is sufficient. If, by some reason, I need some other column to be cleaned I will get to it in a later post. \n",
    "\n",
    "That's it for now folks! Hope you enjoyed this tour through the Wheel of Time data. Feel free to contact me by any reason.\n",
    "\n",
    "Cheers!"
   ]
  }
 ],
 "metadata": {
  "kernelspec": {
   "display_name": "Python 3",
   "language": "python",
   "name": "python3"
  },
  "language_info": {
   "codemirror_mode": {
    "name": "ipython",
    "version": 3
   },
   "file_extension": ".py",
   "mimetype": "text/x-python",
   "name": "python",
   "nbconvert_exporter": "python",
   "pygments_lexer": "ipython3",
   "version": "3.6.9"
  }
 },
 "nbformat": 4,
 "nbformat_minor": 4
}
