{
 "cells": [
  {
   "cell_type": "code",
   "execution_count": 13,
   "metadata": {},
   "outputs": [],
   "source": [
    "import pandas as pd"
   ]
  },
  {
   "cell_type": "code",
   "execution_count": 20,
   "metadata": {},
   "outputs": [],
   "source": [
    "characters = pd.read_csv(\"../datasets/characters.csv\")"
   ]
  },
  {
   "cell_type": "markdown",
   "metadata": {},
   "source": [
    "We will start by taking an overview of the data:"
   ]
  },
  {
   "cell_type": "code",
   "execution_count": 21,
   "metadata": {},
   "outputs": [
    {
     "data": {
      "text/html": [
       "<div>\n",
       "<style scoped>\n",
       "    .dataframe tbody tr th:only-of-type {\n",
       "        vertical-align: middle;\n",
       "    }\n",
       "\n",
       "    .dataframe tbody tr th {\n",
       "        vertical-align: top;\n",
       "    }\n",
       "\n",
       "    .dataframe thead th {\n",
       "        text-align: right;\n",
       "    }\n",
       "</style>\n",
       "<table border=\"1\" class=\"dataframe\">\n",
       "  <thead>\n",
       "    <tr style=\"text-align: right;\">\n",
       "      <th></th>\n",
       "      <th>name</th>\n",
       "      <th>birth</th>\n",
       "      <th>nationality</th>\n",
       "      <th>gender</th>\n",
       "      <th>height</th>\n",
       "      <th>weight</th>\n",
       "      <th>hair_color</th>\n",
       "      <th>eye_color</th>\n",
       "      <th>build</th>\n",
       "      <th>race</th>\n",
       "      <th>...</th>\n",
       "      <th>last_appeared_chapter</th>\n",
       "      <th>affiliation</th>\n",
       "      <th>title</th>\n",
       "      <th>rank</th>\n",
       "      <th>status</th>\n",
       "      <th>death</th>\n",
       "      <th>occupation</th>\n",
       "      <th>ajah</th>\n",
       "      <th>clan</th>\n",
       "      <th>sept</th>\n",
       "    </tr>\n",
       "  </thead>\n",
       "  <tbody>\n",
       "    <tr>\n",
       "      <th>count</th>\n",
       "      <td>2285</td>\n",
       "      <td>225</td>\n",
       "      <td>2146</td>\n",
       "      <td>2285</td>\n",
       "      <td>334</td>\n",
       "      <td>30</td>\n",
       "      <td>651</td>\n",
       "      <td>373</td>\n",
       "      <td>579</td>\n",
       "      <td>40</td>\n",
       "      <td>...</td>\n",
       "      <td>1572</td>\n",
       "      <td>1235</td>\n",
       "      <td>408</td>\n",
       "      <td>857</td>\n",
       "      <td>2267</td>\n",
       "      <td>386</td>\n",
       "      <td>985</td>\n",
       "      <td>360</td>\n",
       "      <td>244</td>\n",
       "      <td>200</td>\n",
       "    </tr>\n",
       "    <tr>\n",
       "      <th>unique</th>\n",
       "      <td>2285</td>\n",
       "      <td>142</td>\n",
       "      <td>58</td>\n",
       "      <td>2</td>\n",
       "      <td>48</td>\n",
       "      <td>15</td>\n",
       "      <td>277</td>\n",
       "      <td>120</td>\n",
       "      <td>106</td>\n",
       "      <td>1</td>\n",
       "      <td>...</td>\n",
       "      <td>60</td>\n",
       "      <td>103</td>\n",
       "      <td>118</td>\n",
       "      <td>95</td>\n",
       "      <td>17</td>\n",
       "      <td>70</td>\n",
       "      <td>123</td>\n",
       "      <td>8</td>\n",
       "      <td>17</td>\n",
       "      <td>36</td>\n",
       "    </tr>\n",
       "    <tr>\n",
       "      <th>top</th>\n",
       "      <td>Kairen Stang</td>\n",
       "      <td>Age of Legends</td>\n",
       "      <td>Unknown nationality</td>\n",
       "      <td>Female</td>\n",
       "      <td>Tall</td>\n",
       "      <td>Slender</td>\n",
       "      <td>Dark</td>\n",
       "      <td>Dark</td>\n",
       "      <td>Plump</td>\n",
       "      <td>Ogier</td>\n",
       "      <td>...</td>\n",
       "      <td>Prologue</td>\n",
       "      <td>White Tower</td>\n",
       "      <td>Lord</td>\n",
       "      <td>Aes Sedai</td>\n",
       "      <td>Alive</td>\n",
       "      <td>1000 NE</td>\n",
       "      <td>Soldier</td>\n",
       "      <td>Green Ajah</td>\n",
       "      <td>Unknown clan</td>\n",
       "      <td>Unknown sept</td>\n",
       "    </tr>\n",
       "    <tr>\n",
       "      <th>freq</th>\n",
       "      <td>1</td>\n",
       "      <td>13</td>\n",
       "      <td>479</td>\n",
       "      <td>1186</td>\n",
       "      <td>174</td>\n",
       "      <td>7</td>\n",
       "      <td>70</td>\n",
       "      <td>70</td>\n",
       "      <td>66</td>\n",
       "      <td>40</td>\n",
       "      <td>...</td>\n",
       "      <td>125</td>\n",
       "      <td>317</td>\n",
       "      <td>102</td>\n",
       "      <td>362</td>\n",
       "      <td>1498</td>\n",
       "      <td>209</td>\n",
       "      <td>241</td>\n",
       "      <td>62</td>\n",
       "      <td>83</td>\n",
       "      <td>140</td>\n",
       "    </tr>\n",
       "  </tbody>\n",
       "</table>\n",
       "<p>4 rows × 27 columns</p>\n",
       "</div>"
      ],
      "text/plain": [
       "                name           birth          nationality  gender height  \\\n",
       "count           2285             225                 2146    2285    334   \n",
       "unique          2285             142                   58       2     48   \n",
       "top     Kairen Stang  Age of Legends  Unknown nationality  Female   Tall   \n",
       "freq               1              13                  479    1186    174   \n",
       "\n",
       "         weight hair_color eye_color  build   race  ... last_appeared_chapter  \\\n",
       "count        30        651       373    579     40  ...                  1572   \n",
       "unique       15        277       120    106      1  ...                    60   \n",
       "top     Slender       Dark      Dark  Plump  Ogier  ...              Prologue   \n",
       "freq          7         70        70     66     40  ...                   125   \n",
       "\n",
       "        affiliation title       rank status    death occupation        ajah  \\\n",
       "count          1235   408        857   2267      386        985         360   \n",
       "unique          103   118         95     17       70        123           8   \n",
       "top     White Tower  Lord  Aes Sedai  Alive  1000 NE    Soldier  Green Ajah   \n",
       "freq            317   102        362   1498      209        241          62   \n",
       "\n",
       "                clan          sept  \n",
       "count            244           200  \n",
       "unique            17            36  \n",
       "top     Unknown clan  Unknown sept  \n",
       "freq              83           140  \n",
       "\n",
       "[4 rows x 27 columns]"
      ]
     },
     "execution_count": 21,
     "metadata": {},
     "output_type": "execute_result"
    }
   ],
   "source": [
    "characters.describe()"
   ]
  },
  {
   "cell_type": "code",
   "execution_count": 5,
   "metadata": {},
   "outputs": [
    {
     "name": "stdout",
     "output_type": "stream",
     "text": [
      "<class 'pandas.core.frame.DataFrame'>\n",
      "RangeIndex: 2289 entries, 0 to 2288\n",
      "Data columns (total 27 columns):\n",
      " #   Column                   Non-Null Count  Dtype \n",
      "---  ------                   --------------  ----- \n",
      " 0   name                     2285 non-null   object\n",
      " 1   birth                    225 non-null    object\n",
      " 2   nationality              2146 non-null   object\n",
      " 3   gender                   2285 non-null   object\n",
      " 4   height                   334 non-null    object\n",
      " 5   weight                   30 non-null     object\n",
      " 6   hair_color               651 non-null    object\n",
      " 7   eye_color                373 non-null    object\n",
      " 8   build                    579 non-null    object\n",
      " 9   race                     40 non-null     object\n",
      " 10  first_mentioned_book     883 non-null    object\n",
      " 11  first_mentioned_chapter  790 non-null    object\n",
      " 12  last_mentioned_book      908 non-null    object\n",
      " 13  last_mentioned_chapter   859 non-null    object\n",
      " 14  first_appeared_book      1629 non-null   object\n",
      " 15  first_appeared_chapter   1622 non-null   object\n",
      " 16  last_appeared_book       1577 non-null   object\n",
      " 17  last_appeared_chapter    1572 non-null   object\n",
      " 18  affiliation              1235 non-null   object\n",
      " 19  title                    408 non-null    object\n",
      " 20  rank                     857 non-null    object\n",
      " 21  status                   2267 non-null   object\n",
      " 22  death                    386 non-null    object\n",
      " 23  occupation               985 non-null    object\n",
      " 24  ajah                     360 non-null    object\n",
      " 25  clan                     244 non-null    object\n",
      " 26  sept                     200 non-null    object\n",
      "dtypes: object(27)\n",
      "memory usage: 483.0+ KB\n"
     ]
    }
   ],
   "source": [
    "characters.info()"
   ]
  },
  {
   "cell_type": "code",
   "execution_count": 4,
   "metadata": {},
   "outputs": [
    {
     "name": "stdout",
     "output_type": "stream",
     "text": [
      "There are 2289 characters.\n"
     ]
    }
   ],
   "source": [
    "print(f'There are {len(characters.index)} characters.')"
   ]
  },
  {
   "cell_type": "markdown",
   "metadata": {},
   "source": [
    "As of today (03/05/2020) The **Wheel of Time wiki** has the following character counts **1189** [Female](https://wot.fandom.com/wiki/Category:Women), **1101** [Male](https://wot.fandom.com/wiki/Category:Men) and no [Unknown Gender](https://wot.fandom.com/wiki/Category:Unknown_gender) characters. This would sum to a total of **2290** characters, but the the wiki actually is counting [Wolfbrothers](https://wot.fandom.com/wiki/Category:Wolfbrothers)' Category as a Male character so the total number of **2289** is the correct one, at least up to this date."
   ]
  },
  {
   "cell_type": "markdown",
   "metadata": {},
   "source": [
    "## Dropping Characters that Don't Have Bio Details on the Wiki\n",
    "\n",
    "First we are going to look for characters that don't have Bio details in the wiki. Looking at the order of scraped characters I could find two of those characters in the wiki. \n",
    "\n",
    "* [Culan Cuhan](https://wot.fandom.com/wiki/Culan_Cuhan)\n",
    "* [Anla the Wise Counselor](https://wot.fandom.com/wiki/Anla_the_Wise_Counselor)\n",
    "\n",
    "However, as Scrapy does a lot of paralell requests, I couldn't spot the others."
   ]
  },
  {
   "cell_type": "code",
   "execution_count": 22,
   "metadata": {},
   "outputs": [
    {
     "data": {
      "text/html": [
       "<div>\n",
       "<style scoped>\n",
       "    .dataframe tbody tr th:only-of-type {\n",
       "        vertical-align: middle;\n",
       "    }\n",
       "\n",
       "    .dataframe tbody tr th {\n",
       "        vertical-align: top;\n",
       "    }\n",
       "\n",
       "    .dataframe thead th {\n",
       "        text-align: right;\n",
       "    }\n",
       "</style>\n",
       "<table border=\"1\" class=\"dataframe\">\n",
       "  <thead>\n",
       "    <tr style=\"text-align: right;\">\n",
       "      <th></th>\n",
       "      <th>name</th>\n",
       "      <th>birth</th>\n",
       "      <th>nationality</th>\n",
       "      <th>gender</th>\n",
       "      <th>height</th>\n",
       "      <th>weight</th>\n",
       "      <th>hair_color</th>\n",
       "      <th>eye_color</th>\n",
       "      <th>build</th>\n",
       "      <th>race</th>\n",
       "      <th>...</th>\n",
       "      <th>last_appeared_chapter</th>\n",
       "      <th>affiliation</th>\n",
       "      <th>title</th>\n",
       "      <th>rank</th>\n",
       "      <th>status</th>\n",
       "      <th>death</th>\n",
       "      <th>occupation</th>\n",
       "      <th>ajah</th>\n",
       "      <th>clan</th>\n",
       "      <th>sept</th>\n",
       "    </tr>\n",
       "  </thead>\n",
       "  <tbody>\n",
       "    <tr>\n",
       "      <th>279</th>\n",
       "      <td>NaN</td>\n",
       "      <td>NaN</td>\n",
       "      <td>NaN</td>\n",
       "      <td>NaN</td>\n",
       "      <td>NaN</td>\n",
       "      <td>NaN</td>\n",
       "      <td>NaN</td>\n",
       "      <td>NaN</td>\n",
       "      <td>NaN</td>\n",
       "      <td>NaN</td>\n",
       "      <td>...</td>\n",
       "      <td>NaN</td>\n",
       "      <td>NaN</td>\n",
       "      <td>NaN</td>\n",
       "      <td>NaN</td>\n",
       "      <td>NaN</td>\n",
       "      <td>NaN</td>\n",
       "      <td>NaN</td>\n",
       "      <td>NaN</td>\n",
       "      <td>NaN</td>\n",
       "      <td>NaN</td>\n",
       "    </tr>\n",
       "    <tr>\n",
       "      <th>314</th>\n",
       "      <td>NaN</td>\n",
       "      <td>NaN</td>\n",
       "      <td>NaN</td>\n",
       "      <td>NaN</td>\n",
       "      <td>NaN</td>\n",
       "      <td>NaN</td>\n",
       "      <td>NaN</td>\n",
       "      <td>NaN</td>\n",
       "      <td>NaN</td>\n",
       "      <td>NaN</td>\n",
       "      <td>...</td>\n",
       "      <td>NaN</td>\n",
       "      <td>NaN</td>\n",
       "      <td>NaN</td>\n",
       "      <td>NaN</td>\n",
       "      <td>NaN</td>\n",
       "      <td>NaN</td>\n",
       "      <td>NaN</td>\n",
       "      <td>NaN</td>\n",
       "      <td>NaN</td>\n",
       "      <td>NaN</td>\n",
       "    </tr>\n",
       "    <tr>\n",
       "      <th>1252</th>\n",
       "      <td>NaN</td>\n",
       "      <td>NaN</td>\n",
       "      <td>NaN</td>\n",
       "      <td>NaN</td>\n",
       "      <td>NaN</td>\n",
       "      <td>NaN</td>\n",
       "      <td>NaN</td>\n",
       "      <td>NaN</td>\n",
       "      <td>NaN</td>\n",
       "      <td>NaN</td>\n",
       "      <td>...</td>\n",
       "      <td>NaN</td>\n",
       "      <td>NaN</td>\n",
       "      <td>NaN</td>\n",
       "      <td>NaN</td>\n",
       "      <td>NaN</td>\n",
       "      <td>NaN</td>\n",
       "      <td>NaN</td>\n",
       "      <td>NaN</td>\n",
       "      <td>NaN</td>\n",
       "      <td>NaN</td>\n",
       "    </tr>\n",
       "    <tr>\n",
       "      <th>2204</th>\n",
       "      <td>NaN</td>\n",
       "      <td>NaN</td>\n",
       "      <td>NaN</td>\n",
       "      <td>NaN</td>\n",
       "      <td>NaN</td>\n",
       "      <td>NaN</td>\n",
       "      <td>NaN</td>\n",
       "      <td>NaN</td>\n",
       "      <td>NaN</td>\n",
       "      <td>NaN</td>\n",
       "      <td>...</td>\n",
       "      <td>NaN</td>\n",
       "      <td>NaN</td>\n",
       "      <td>NaN</td>\n",
       "      <td>NaN</td>\n",
       "      <td>NaN</td>\n",
       "      <td>NaN</td>\n",
       "      <td>NaN</td>\n",
       "      <td>NaN</td>\n",
       "      <td>NaN</td>\n",
       "      <td>NaN</td>\n",
       "    </tr>\n",
       "  </tbody>\n",
       "</table>\n",
       "<p>4 rows × 27 columns</p>\n",
       "</div>"
      ],
      "text/plain": [
       "     name birth nationality gender height weight hair_color eye_color build  \\\n",
       "279   NaN   NaN         NaN    NaN    NaN    NaN        NaN       NaN   NaN   \n",
       "314   NaN   NaN         NaN    NaN    NaN    NaN        NaN       NaN   NaN   \n",
       "1252  NaN   NaN         NaN    NaN    NaN    NaN        NaN       NaN   NaN   \n",
       "2204  NaN   NaN         NaN    NaN    NaN    NaN        NaN       NaN   NaN   \n",
       "\n",
       "     race  ... last_appeared_chapter affiliation title rank status death  \\\n",
       "279   NaN  ...                   NaN         NaN   NaN  NaN    NaN   NaN   \n",
       "314   NaN  ...                   NaN         NaN   NaN  NaN    NaN   NaN   \n",
       "1252  NaN  ...                   NaN         NaN   NaN  NaN    NaN   NaN   \n",
       "2204  NaN  ...                   NaN         NaN   NaN  NaN    NaN   NaN   \n",
       "\n",
       "     occupation ajah clan sept  \n",
       "279         NaN  NaN  NaN  NaN  \n",
       "314         NaN  NaN  NaN  NaN  \n",
       "1252        NaN  NaN  NaN  NaN  \n",
       "2204        NaN  NaN  NaN  NaN  \n",
       "\n",
       "[4 rows x 27 columns]"
      ]
     },
     "execution_count": 22,
     "metadata": {},
     "output_type": "execute_result"
    }
   ],
   "source": [
    "characters[characters[\"name\"].isna()]"
   ]
  },
  {
   "cell_type": "markdown",
   "metadata": {},
   "source": [
    "As can be seen, there are four characters that don't have Bio in the wiki. Let's clean these rows."
   ]
  },
  {
   "cell_type": "code",
   "execution_count": 23,
   "metadata": {},
   "outputs": [],
   "source": [
    "indexes_drop = characters[characters[\"name\"].isna()].index\n",
    "characters.drop(indexes_drop, inplace=True)"
   ]
  },
  {
   "cell_type": "code",
   "execution_count": 24,
   "metadata": {},
   "outputs": [
    {
     "name": "stdout",
     "output_type": "stream",
     "text": [
      "We are left with 2285 characters.\n"
     ]
    }
   ],
   "source": [
    "print(f'We are left with {len(characters.index)} characters.')"
   ]
  },
  {
   "cell_type": "markdown",
   "metadata": {},
   "source": [
    "## Dealing with Nationality Data\n",
    "\n",
    "Some characters don't have the **nationality** filled in their Bios. I am going to fill them with the value **Unkown nationality** as this is already used  in the wiki when it is explicitly stated that the nationality is unkown for a character."
   ]
  },
  {
   "cell_type": "code",
   "execution_count": 25,
   "metadata": {},
   "outputs": [],
   "source": [
    "characters[\"nationality\"].fillna(\"Unknown nationality\", inplace=True)"
   ]
  },
  {
   "cell_type": "markdown",
   "metadata": {},
   "source": [
    "Let's look at the count for each nationality:"
   ]
  },
  {
   "cell_type": "code",
   "execution_count": 26,
   "metadata": {},
   "outputs": [
    {
     "data": {
      "text/plain": [
       "Unknown nationality    618\n",
       "Andoran                385\n",
       "Aiel                   256\n",
       "Seanchan               119\n",
       "Cairhienin             116\n",
       "Tairen                  88\n",
       "Domani                  86\n",
       "Altaran                 71\n",
       "Saldaean                60\n",
       "Kandori                 55\n",
       "Murandian               50\n",
       "Taraboner               45\n",
       "Shienaran               37\n",
       "Amadician               36\n",
       "Illianer                36\n",
       "Ghealdanin              34\n",
       "Arafellin               33\n",
       "Far Madding             21\n",
       "Borderlander            15\n",
       "Mayener                 14\n",
       "Malkieri                10\n",
       "Malkier                  9\n",
       "Saldaea                  7\n",
       "Manetherenite            6\n",
       "Andor                    6\n",
       "Tar Valon                5\n",
       "Shandalle                5\n",
       "Kandor                   5\n",
       "Sharan                   5\n",
       "Cairhien                 4\n",
       "Arad Doman               3\n",
       "Illian                   3\n",
       "Murandy                  3\n",
       "Aldesharin               3\n",
       "Black Hills              3\n",
       "Ghealdan                 2\n",
       "Aridholin                2\n",
       "Shienar                  2\n",
       "Aramaellen               2\n",
       "Mayene                   2\n",
       "Sea Folk                 2\n",
       "Altara                   2\n",
       "Shiotan                  2\n",
       "Tarabon                  2\n",
       "Arafel                   2\n",
       "Aramaelle                1\n",
       "Essam                    1\n",
       "Amayarin                 1\n",
       "Amadicia                 1\n",
       "Saferin                  1\n",
       "Jaramide                 1\n",
       "Hol Cuchone              1\n",
       "Masenasharin             1\n",
       "Essenian                 1\n",
       "Darmovanin               1\n",
       "Talmouri                 1\n",
       "Dorlan                   1\n",
       "Dal Calainin             1\n",
       "Name: nationality, dtype: int64"
      ]
     },
     "execution_count": 26,
     "metadata": {},
     "output_type": "execute_result"
    }
   ],
   "source": [
    "characters[\"nationality\"].value_counts()"
   ]
  },
  {
   "cell_type": "markdown",
   "metadata": {},
   "source": [
    "Looking at the data we can see that there are some values that have different names but that actually correspond to the same nationality, such as **Andor** and **Andoran**. To avoid this duplication we will map them to get a uniform name for each nationality."
   ]
  },
  {
   "cell_type": "code",
   "execution_count": 27,
   "metadata": {},
   "outputs": [],
   "source": [
    "nationality_mapping = {\n",
    "    'Unknown nationality':'Unknown nationality',\n",
    "    'Andoran':'Andoran',\n",
    "    'Aiel':'Aiel',\n",
    "    'Seanchan':'Seanchan',\n",
    "    'Cairhienin':'Cairhienin',\n",
    "    'Tairen':'Tairen',\n",
    "    'Domani':'Domani',\n",
    "    'Altaran':'Altaran',\n",
    "    'Saldaean':'Saldaean',\n",
    "    'Kandori':'Kandori', \n",
    "    'Murandian':'Murandian',\n",
    "    'Taraboner':'Taraboner',\n",
    "    'Shienaran':'Shienaran',\n",
    "    'Amadician':'Amadician',\n",
    "    'Illianer':'Illianer',\n",
    "    'Ghealdanin':'Ghealdanin',\n",
    "    'Arafellin':'Arafellin',\n",
    "    'Far Madding':'Far Madding',\n",
    "    'Borderlander':'Borderlander',\n",
    "    'Mayener':'Mayener',\n",
    "    'Malkieri':'Malkieri',\n",
    "    'Malkier':'Malkieri',\n",
    "    'Saldaea':'Saldaean',\n",
    "    'Andor': 'Andoran',\n",
    "    'Manetherenite':'Manetherenite',\n",
    "    'Tar Valon':'Tar Valon',\n",
    "    'Shandalle':'Shandalle',\n",
    "    'Kandor':'Kandori',\n",
    "    'Sharan':'Sharan',\n",
    "    'Cairhien':'Cairhienin',\n",
    "    'Illian':'Illianer',\n",
    "    'Murandy':'Murandian',\n",
    "    'Aldesharin':'Aldesharin',\n",
    "    'Arad Doman':'Domani',\n",
    "    'Black Hills':'Black Hills',\n",
    "    'Tarabon':'Taraboner',\n",
    "    'Sea Folk':'Sea Folk',\n",
    "    'Shienar':'Shienaran',\n",
    "    'Arafel':'Arafellin',\n",
    "    'Aramaellen':'Aramaellen',\n",
    "    'Aridholin':'Aridholin',\n",
    "    'Shiotan':'Shiotan',\n",
    "    'Altara':'Altaran',\n",
    "    'Mayene':'Mayener',\n",
    "    'Ghealdan':'Ghealdanin',\n",
    "    'Darmovanin':'Darmovanin',\n",
    "    'Dal Calainin':'Dal Calainin',\n",
    "    'Dorlan':'Dorlan',                  \n",
    "    'Amadicia':'Amadician',\n",
    "    'Essam':'Essam',\n",
    "    'Jaramide':'Jaramide',\n",
    "    'Aramaelle':'Aramaelle',\n",
    "    'Amayarin':'Amayarin',\n",
    "    'Talmouri':'Talmouri', \n",
    "    'Masenasharin':'Masenasharin',\n",
    "    'Essenian':'Essenian',\n",
    "    'Hol Cuchone':'Hol Cuchone',\n",
    "    'Saferin':'Saferin'\n",
    "}\n",
    "\n",
    "characters['nationality'] = characters['nationality'].map(nationality_mapping)"
   ]
  },
  {
   "cell_type": "code",
   "execution_count": 28,
   "metadata": {},
   "outputs": [
    {
     "data": {
      "text/plain": [
       "Unknown nationality    618\n",
       "Andoran                391\n",
       "Aiel                   256\n",
       "Cairhienin             120\n",
       "Seanchan               119\n",
       "Domani                  89\n",
       "Tairen                  88\n",
       "Altaran                 73\n",
       "Saldaean                67\n",
       "Kandori                 60\n",
       "Murandian               53\n",
       "Taraboner               47\n",
       "Illianer                39\n",
       "Shienaran               39\n",
       "Amadician               37\n",
       "Ghealdanin              36\n",
       "Arafellin               35\n",
       "Far Madding             21\n",
       "Malkieri                19\n",
       "Mayener                 16\n",
       "Borderlander            15\n",
       "Manetherenite            6\n",
       "Sharan                   5\n",
       "Shandalle                5\n",
       "Tar Valon                5\n",
       "Black Hills              3\n",
       "Aldesharin               3\n",
       "Aramaellen               2\n",
       "Shiotan                  2\n",
       "Sea Folk                 2\n",
       "Aridholin                2\n",
       "Jaramide                 1\n",
       "Amayarin                 1\n",
       "Aramaelle                1\n",
       "Essam                    1\n",
       "Hol Cuchone              1\n",
       "Masenasharin             1\n",
       "Essenian                 1\n",
       "Darmovanin               1\n",
       "Talmouri                 1\n",
       "Dorlan                   1\n",
       "Saferin                  1\n",
       "Dal Calainin             1\n",
       "Name: nationality, dtype: int64"
      ]
     },
     "execution_count": 28,
     "metadata": {},
     "output_type": "execute_result"
    }
   ],
   "source": [
    "characters[\"nationality\"].value_counts()"
   ]
  },
  {
   "cell_type": "code",
   "execution_count": 29,
   "metadata": {},
   "outputs": [
    {
     "name": "stdout",
     "output_type": "stream",
     "text": [
      "Now we end up with 43 unique nationalities\n"
     ]
    }
   ],
   "source": [
    "print(f'Now we end up with {characters[\"nationality\"].nunique()} unique nationalities')"
   ]
  },
  {
   "cell_type": "markdown",
   "metadata": {},
   "source": [
    "Something needs to be done about these characters. But we are going to take a deeper look at the books data in the next section and fix this problem, bear with me.\n"
   ]
  },
  {
   "cell_type": "markdown",
   "metadata": {},
   "source": [
    "## Analyzing Book Mention and Appearences\n",
    "\n",
    "Firstly we are going to see the book occurences and number of unique books for each of the three book attributes:\n",
    "\n",
    "### First Mentioned"
   ]
  },
  {
   "cell_type": "code",
   "execution_count": 33,
   "metadata": {},
   "outputs": [
    {
     "data": {
      "text/plain": [
       "LOC                            118\n",
       "TSR                             97\n",
       "TEOTW                           77\n",
       "TOM                             69\n",
       "TFOH                            60\n",
       "NS                              53\n",
       "ACOS                            51\n",
       "TWORJTWOT                       48\n",
       "KOD                             41\n",
       "TGS                             38\n",
       "COT                             38\n",
       "TGH                             38\n",
       "TDR                             36\n",
       "WH                              35\n",
       "TPOD                            24\n",
       "RPG                             21\n",
       "AMOL                            17\n",
       "The Wheel of Time Companion     14\n",
       "Wheel of Time Companion          6\n",
       "TSASG                            2\n",
       "Name: first_mentioned_book, dtype: int64"
      ]
     },
     "execution_count": 33,
     "metadata": {},
     "output_type": "execute_result"
    }
   ],
   "source": [
    "characters['first_mentioned_book'].value_counts()"
   ]
  },
  {
   "cell_type": "code",
   "execution_count": 37,
   "metadata": {},
   "outputs": [
    {
     "data": {
      "text/plain": [
       "20"
      ]
     },
     "execution_count": 37,
     "metadata": {},
     "output_type": "execute_result"
    }
   ],
   "source": [
    "characters['first_mentioned_book'].nunique()"
   ]
  },
  {
   "cell_type": "markdown",
   "metadata": {},
   "source": [
    "Things are looking good. There are 20 entries. The 14 books in the series, New Spring and 5 extras that actually correspond to the following 4 books \n",
    "\n",
    "* **TWORJTWOT** (The World of Robert Jordan's The Wheel of Time)\n",
    "* **The Wheel of Time Companion** & **Wheel of Time Companion** (Both corresponde to the same book)\n",
    "* **RPG** (The Wheel of Time Roleplaying Game)\n",
    "* **TSASG** (The Strike at Shayol Ghul)\n"
   ]
  },
  {
   "cell_type": "markdown",
   "metadata": {},
   "source": [
    "### Last Mentioned"
   ]
  },
  {
   "cell_type": "code",
   "execution_count": 40,
   "metadata": {},
   "outputs": [
    {
     "data": {
      "text/plain": [
       "AMOL         115\n",
       "TOM          109\n",
       "KOD           84\n",
       "LOC           80\n",
       "TGS           79\n",
       "TSR           71\n",
       "COT           59\n",
       "ACOS          49\n",
       "TFOH          41\n",
       "WH            41\n",
       "TWORJTWOT     40\n",
       "NS            37\n",
       "TPOD          37\n",
       "TGH           22\n",
       "TDR           18\n",
       "TEOTW         17\n",
       "RPG            7\n",
       "TSASG          2\n",
       "Name: last_mentioned_book, dtype: int64"
      ]
     },
     "execution_count": 40,
     "metadata": {},
     "output_type": "execute_result"
    }
   ],
   "source": [
    "characters['last_mentioned_book'].value_counts()"
   ]
  },
  {
   "cell_type": "code",
   "execution_count": 41,
   "metadata": {},
   "outputs": [
    {
     "data": {
      "text/plain": [
       "18"
      ]
     },
     "execution_count": 41,
     "metadata": {},
     "output_type": "execute_result"
    }
   ],
   "source": [
    "characters['last_mentioned_book'].nunique()"
   ]
  },
  {
   "cell_type": "markdown",
   "metadata": {},
   "source": [
    "For last mentioned there are 18 different books. The 14 books in the series, New Spring and the following 3 books \n",
    "\n",
    "* **TWORJTWOT** (The World of Robert Jordan's The Wheel of Time)\n",
    "* **RPG** (The Wheel of Time Roleplaying Game)\n",
    "* **TSASG** (The Strike at Shayol Ghul)\n"
   ]
  },
  {
   "cell_type": "markdown",
   "metadata": {},
   "source": [
    "### First Appeared"
   ]
  },
  {
   "cell_type": "code",
   "execution_count": 35,
   "metadata": {},
   "outputs": [
    {
     "data": {
      "text/plain": [
       "LOC          200\n",
       "KOD          145\n",
       "TSR          133\n",
       "ACOS         131\n",
       "TPOD         126\n",
       "TOM          122\n",
       "TFOH         117\n",
       "NS           104\n",
       "TEOTW        103\n",
       "TGS           89\n",
       "WH            85\n",
       "TGH           79\n",
       "COT           76\n",
       "AMOL          61\n",
       "TDR           53\n",
       "CCG            3\n",
       "TWORJTWOT      2\n",
       "Name: first_appeared_book, dtype: int64"
      ]
     },
     "execution_count": 35,
     "metadata": {},
     "output_type": "execute_result"
    }
   ],
   "source": [
    "characters['first_appeared_book'].value_counts()"
   ]
  },
  {
   "cell_type": "code",
   "execution_count": 36,
   "metadata": {},
   "outputs": [
    {
     "data": {
      "text/plain": [
       "17"
      ]
     },
     "execution_count": 36,
     "metadata": {},
     "output_type": "execute_result"
    }
   ],
   "source": [
    "characters['first_appeared_book'].nunique()"
   ]
  },
  {
   "cell_type": "markdown",
   "metadata": {},
   "source": [
    "Again, no problem. 17 entries. Again, 14 books in the series, New Spring and 2 extras that actually corresponde to 2 books: \n",
    "\n",
    "* **TWORJTWOT** (The World of Robert Jordan's The Wheel of Time)\n",
    "* **CCG** (The Wheel of Time Collectible Card Game)\n"
   ]
  },
  {
   "cell_type": "markdown",
   "metadata": {},
   "source": [
    "### Last Appeared"
   ]
  },
  {
   "cell_type": "code",
   "execution_count": 42,
   "metadata": {},
   "outputs": [
    {
     "data": {
      "text/plain": [
       "AMOL         255\n",
       "KOD          222\n",
       "TOM          209\n",
       "TGS          137\n",
       "LOC          131\n",
       "TSR           99\n",
       "TPOD          91\n",
       "COT           76\n",
       "WH            67\n",
       "NS            64\n",
       "TFOH          53\n",
       "ACOS          51\n",
       "TDR           42\n",
       "TGH           38\n",
       "TEOTW         37\n",
       "CCG            3\n",
       "TWORJTWOT      2\n",
       "Name: last_appeared_book, dtype: int64"
      ]
     },
     "execution_count": 42,
     "metadata": {},
     "output_type": "execute_result"
    }
   ],
   "source": [
    "characters['last_appeared_book'].value_counts()"
   ]
  },
  {
   "cell_type": "code",
   "execution_count": 43,
   "metadata": {},
   "outputs": [
    {
     "data": {
      "text/plain": [
       "17"
      ]
     },
     "execution_count": 43,
     "metadata": {},
     "output_type": "execute_result"
    }
   ],
   "source": [
    "characters['last_appeared_book'].nunique()"
   ]
  },
  {
   "cell_type": "markdown",
   "metadata": {},
   "source": [
    "Yet again 17 entries. The same 14 books in the series, New Spring and 2 extras that actually corresponde to 2 books: \n",
    "\n",
    "* **TWORJTWOT** (The World of Robert Jordan's The Wheel of Time)\n",
    "* **CCG** (The Wheel of Time Collectible Card Game)"
   ]
  },
  {
   "cell_type": "markdown",
   "metadata": {},
   "source": [
    "### Cleaning Characters Only Mentioned in Peripherical Material\n",
    "\n",
    "I am going to clean the characters that don't have at least one of the three attributes related to one of the 15 books in the series (including New Spring). So that we remmain only with characters whose data indicates that appear or are mentioned in the the series."
   ]
  },
  {
   "cell_type": "code",
   "execution_count": 44,
   "metadata": {},
   "outputs": [],
   "source": [
    "series_books = ['NS', 'TEOTW', 'TGH', 'TDR', 'TSR','TFOH', 'LOC', 'ACOS','TPOD','WH', 'COT', 'KOD', 'TGS','TOM', 'AMOL']"
   ]
  },
  {
   "cell_type": "code",
   "execution_count": 45,
   "metadata": {},
   "outputs": [],
   "source": [
    "condition = characters['first_mentioned_book'].isin(series_books) | characters['last_mentioned_book'].isin(series_books) | characters['first_appeared_book'].isin(series_books) | characters['last_appeared_book'].isin(series_books)  \n",
    "characters = characters[condition]"
   ]
  },
  {
   "cell_type": "code",
   "execution_count": 46,
   "metadata": {},
   "outputs": [
    {
     "name": "stdout",
     "output_type": "stream",
     "text": [
      "We remain with 2179 characters\n"
     ]
    }
   ],
   "source": [
    "print(f'We remain with {len(characters.index)} characters')"
   ]
  },
  {
   "cell_type": "code",
   "execution_count": 47,
   "metadata": {},
   "outputs": [],
   "source": [
    "characters.to_csv('../datasets/characters_cleaned.csv')"
   ]
  },
  {
   "cell_type": "markdown",
   "metadata": {},
   "source": [
    "After the cleaning we remain with **2179** characters. For analysis I intend to do in the future this cleaning is sufficient. If, by some reason, I need some other column to be cleaned I will get to it in a later post. \n",
    "\n",
    "That's it for now folks! Hope you enjoyed this tour through the Wheel of Time data. Feel free to contact me by any reason.\n",
    "\n",
    "Cheers!"
   ]
  }
 ],
 "metadata": {
  "kernelspec": {
   "display_name": "Python 3",
   "language": "python",
   "name": "python3"
  },
  "language_info": {
   "codemirror_mode": {
    "name": "ipython",
    "version": 3
   },
   "file_extension": ".py",
   "mimetype": "text/x-python",
   "name": "python",
   "nbconvert_exporter": "python",
   "pygments_lexer": "ipython3",
   "version": "3.6.9"
  }
 },
 "nbformat": 4,
 "nbformat_minor": 4
}
